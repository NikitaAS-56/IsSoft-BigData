﻿{
  "metadata": {
    "name": "get-movies 1",
    "kernelspec": {
      "language": "scala",
      "name": "spark2-scala"
    },
    "language_info": {
      "codemirror_mode": "text/x-scala",
      "file_extension": ".scala",
      "mimetype": "text/x-scala",
      "name": "scala",
      "pygments_lexer": "scala"
    }
  },
  "nbformat": 4,
  "nbformat_minor": 2,
  "cells": [
    {
      "cell_type": "code",
      "execution_count": 0,
      "metadata": {
        "autoscroll": "auto"
      },
      "outputs": [],
      "source": "downloading and unpacking data"
    },
    {
      "cell_type": "code",
      "execution_count": 1,
      "metadata": {
        "autoscroll": "auto"
      },
      "outputs": [],
      "source": "%sh\nif ! [[-d /tmp/ml-latest.zip]]; then \nwget -q -O /tmp/ml-latest.zip https://files.grouplens.org/datasets/movielens/ml-latest-small.zip\necho \"Download dataset\"\nfi\nunzip /tmp/ml-latest.zip -d /tmp/"
    },
    {
      "cell_type": "code",
      "execution_count": 2,
      "metadata": {
        "autoscroll": "auto"
      },
      "outputs": [],
      "source": "local mode"
    },
    {
      "cell_type": "code",
      "execution_count": 3,
      "metadata": {
        "autoscroll": "auto"
      },
      "outputs": [],
      "source": "cluster mode"
    },
    {
      "cell_type": "code",
      "execution_count": 4,
      "metadata": {
        "autoscroll": "auto"
      },
      "outputs": [],
      "source": "\n%sh\nif ! [[-d /tmp/data/ ]]; then \n    mkdir /tmp/data\n    mkdir /tmp/data/movies \n    mkdir /tmp/data/ratings\nelif ! [[-d /tmp/data/movies]];then\n    mkdir /tmp/data/movies\nelif ! [[-d /tmp/data/ratings]];then  \n    mkdir /tmp/data/ratings\nfi \nmv /tmp/ml-latest-small/movies.csv  /tmp/data/movies/\nmv /tmp/ml-latest-small/ratings.csv  /tmp/data/ratings/\nrm /tmp/ml-latest-small/*\nrmdir /tmp/ml-latest-small"
    },
    {
      "cell_type": "code",
      "execution_count": 5,
      "metadata": {
        "autoscroll": "auto"
      },
      "outputs": [],
      "source": "%sh\nhdfs dfs -mkdir -p /tmp/data/movies\nhdfs dfs -put -f  /tmp/data/movies/movies.csv /tmp/data/movies/\n\nhdfs dfs -mkdir -p /tmp/data/ratings\nhdfs dfs -put -f  /tmp/data/ratings/ratings.csv /tmp/data/ratings/"
    },
    {
      "cell_type": "code",
      "execution_count": 6,
      "metadata": {
        "autoscroll": "auto"
      },
      "outputs": [],
      "source": "\nreading ratings and movie data"
    },
    {
      "cell_type": "code",
      "execution_count": 7,
      "metadata": {
        "autoscroll": "auto"
      },
      "outputs": [],
      "source": "\n%pyspark\n\nrdd_movies\u003dsc.textFile(\"file:///tmp/data/movies/movies.csv\")\nrdd_ratings\u003dsc.textFile(\"file:///tmp/data/ratings/ratings.csv\")\n"
    },
    {
      "cell_type": "code",
      "execution_count": 8,
      "metadata": {
        "autoscroll": "auto"
      },
      "outputs": [],
      "source": "initial data"
    },
    {
      "cell_type": "code",
      "execution_count": 9,
      "metadata": {
        "autoscroll": "auto"
      },
      "outputs": [],
      "source": "%pyspark\nregexp\u003dNone\nyear_from\u003d2001\nyear_to\u003d2002\ngnr\u003d\"Drama|Comedy\"\ntopN \u003d5\n"
    },
    {
      "cell_type": "code",
      "execution_count": 10,
      "metadata": {
        "autoscroll": "auto"
      },
      "outputs": [],
      "source": "rating slicing"
    },
    {
      "cell_type": "code",
      "execution_count": 11,
      "metadata": {
        "autoscroll": "auto"
      },
      "outputs": [],
      "source": "%pyspark \ndef get_split_ratings(line): \n    try:      \n        _, movieId, rating, _ \u003d line.split(\u0027,\u0027)\n        return (int(movieId), float(rating))  \n    except: \n         return(None,None)\n    \n"
    },
    {
      "cell_type": "code",
      "execution_count": 12,
      "metadata": {
        "autoscroll": "auto"
      },
      "outputs": [],
      "source": "%pyspark\nrdd_ratings_split\u003drdd_ratings.map(get_split_ratings).filter(lambda ratings:ratings[0] !\u003d None)\nrdd_ratings_split.take(2)\n\n\n\n"
    },
    {
      "cell_type": "code",
      "execution_count": 13,
      "metadata": {
        "autoscroll": "auto"
      },
      "outputs": [],
      "source": "summation of ratings and finding the mean"
    },
    {
      "cell_type": "code",
      "execution_count": 14,
      "metadata": {
        "autoscroll": "auto"
      },
      "outputs": [],
      "source": "%pyspark\nrdd_rating_avg\u003drdd_ratings_split.mapValues(lambda v:(v,1))\\\n                .reduceByKey(lambda x,y:(x[0]+y[0],x[1]+y[1]))\\\n                .mapValues(lambda v:v[0]/v[1])\nrdd_rating_avg.take(5)"
    },
    {
      "cell_type": "code",
      "execution_count": 15,
      "metadata": {
        "autoscroll": "auto"
      },
      "outputs": [],
      "source": "preparation of movie data"
    },
    {
      "cell_type": "code",
      "execution_count": 16,
      "metadata": {
        "autoscroll": "auto"
      },
      "outputs": [],
      "source": "%pyspark\nimport re\ndef getting_the_year_from_the_name(line):\n    if re.search(\"\\d\\d\\d\\d\", line):\n        year \u003d re.search(\"\\d\\d\\d\\d\", line).group()\n    else:\n        year \u003d None\n\n    name \u003d re.sub(\u0027\\s\\(\\d\\d\\d\\d\\)\u0027, \u0027\u0027,line)\n\n    return(name, int(year))\n"
    },
    {
      "cell_type": "code",
      "execution_count": 17,
      "metadata": {
        "autoscroll": "auto"
      },
      "outputs": [],
      "source": "%pyspark\ndef get_split_movies(line):\n    try:\n        movieId, title, genres \u003d None,None,None\n        for str in line.split(\u0027,\u0027):\n            if movieId\u003d\u003dNone:\n                movieId \u003d int(str)\n                continue\n            if title\u003d\u003dNone:\n                title, year \u003d getting_the_year_from_the_name(str)\n                continue\n            if genres\u003d\u003dNone:\n                genres \u003d str\n            genre \u003d [genre for genre in genres.split(\u0027|\u0027)]\n        return (movieId, (title, year, genre))\n    except:\n        return (None, (None, None, None))"
    },
    {
      "cell_type": "code",
      "execution_count": 18,
      "metadata": {
        "autoscroll": "auto"
      },
      "outputs": [],
      "source": "%pyspark\nrdd_movies_split\u003drdd_movies.map(get_split_movies).filter(lambda movies:movies[0] !\u003d None)\nrdd_movies_split.take(5)"
    },
    {
      "cell_type": "code",
      "execution_count": 19,
      "metadata": {
        "autoscroll": "auto"
      },
      "outputs": [],
      "source": "filtering by genre\n"
    },
    {
      "cell_type": "code",
      "execution_count": 20,
      "metadata": {
        "autoscroll": "auto"
      },
      "outputs": [],
      "source": "%pyspark\n\n   def sort_filter(movie):\n        genres,title,year,rating_s\u003dmovie\n         \n        if gnr:\n            for genre in gnr.split(\"|\"):\n                    \n                if genre\u003d\u003dgenres:\n                    return movie\n   \n        else:\n            return movie\n         \n             "
    },
    {
      "cell_type": "code",
      "execution_count": 21,
      "metadata": {
        "autoscroll": "auto"
      },
      "outputs": [],
      "source": "%pyspark\ndef re_genres(movie):\n        movieId,value\u003d movie\n        title_movie,rating_s\u003dvalue\n        title,year,genres_s\u003dtitle_movie\n        return [(genre,title,year,rating_s) for genre in genres_s]"
    },
    {
      "cell_type": "code",
      "execution_count": 22,
      "metadata": {
        "autoscroll": "auto"
      },
      "outputs": [],
      "source": "\nmain function of filtering by preset values"
    },
    {
      "cell_type": "code",
      "execution_count": 23,
      "metadata": {
        "autoscroll": "auto"
      },
      "outputs": [],
      "source": "%pyspark\n\nfrom heapq import nlargest\n\nif year_from :\n    rdd_movies_split\u003drdd_movies_split.filter(lambda movie: movie[1][1]\u003e\u003dyear_from)\n    \nif year_to:\n    rdd_movies_split\u003drdd_movies_split.filter(lambda movie: movie[1][1]\u003c\u003dyear_to)\n        \nif regexp:\n     rdd_movies_split\u003drdd_movies_split.filter(lambda movie: re.search(regexp,movie[1][0],re.IGNORECASE))\n     \nrdd\u003drdd_movies_split.join(rdd_rating_avg)\\\n                .flatMap(re_genres)\\\n                .filter(lambda movie:movie!\u003dNone)\\\n                .sortBy(lambda movie:movie[3],ascending\u003dFalse)\n\nif topN:\n   rdd\u003drdd.filter(sort_filter)\\\n        .groupBy(lambda movie: movie[0])\\\n        .flatMap(lambda movie: nlargest(topN, movie[1], key\u003dlambda movie: movie[3]))\n\nelse:\n     rdd\u003drdd.filter(sort_filter)\\\n        .sortBy(lambda movie:movie[0])\n      \nrdd.collect()"
    },
    {
      "cell_type": "code",
      "execution_count": 24,
      "metadata": {
        "autoscroll": "auto"
      },
      "outputs": [],
      "source": "\nsaving to text file"
    },
    {
      "cell_type": "code",
      "execution_count": 25,
      "metadata": {
        "autoscroll": "auto"
      },
      "outputs": [],
      "source": "%sh \nif $(hdfs dfs -test -d /user/oreshek ); then\n    hdfs dfs -rm -r /user/oreshek\nfi\n"
    },
    {
      "cell_type": "code",
      "execution_count": 26,
      "metadata": {
        "autoscroll": "auto"
      },
      "outputs": [],
      "source": "%pyspark\nrdd.saveAsTextFile(\"/user/oreshek/output\")"
    },
    {
      "cell_type": "code",
      "execution_count": 27,
      "metadata": {
        "autoscroll": "auto"
      },
      "outputs": [],
      "source": "%sh\nhdfs dfs -cat /user/oreshek/output/*"
    },
    {
      "cell_type": "code",
      "execution_count": 28,
      "metadata": {
        "autoscroll": "auto"
      },
      "outputs": [],
      "source": "\noutputting data to a table"
    },
    {
      "cell_type": "code",
      "execution_count": 29,
      "metadata": {
        "autoscroll": "auto"
      },
      "outputs": [],
      "source": "%pyspark\nprint(\"%table genre\\ttitle\\tyear\\trating\")\nfor genre,title,year,rating in rdd.collect():\n    print(f\"{genre}\\t{title}\\t{year}\\t{rating}\")\n"
    },
    {
      "cell_type": "raw",
      "metadata": {
        "format": "text/plain"
      },
      "source": "%pyspark\n"
    }
  ]
}